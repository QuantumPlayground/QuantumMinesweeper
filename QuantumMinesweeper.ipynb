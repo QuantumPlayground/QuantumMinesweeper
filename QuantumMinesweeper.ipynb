{
 "cells": [
  {
   "cell_type": "code",
   "execution_count": 1,
   "metadata": {},
   "outputs": [],
   "source": [
    "from qiskit import QuantumCircuit\n",
    "from qiskit_aer import Aer\n",
    "from qiskit.visualization import plot_histogram"
   ]
  },
  {
   "cell_type": "code",
   "execution_count": 2,
   "metadata": {},
   "outputs": [
    {
     "name": "stdout",
     "output_type": "stream",
     "text": [
      "Initial quantum board: each square in |0> + |1> superposition\n",
      "     ┌───┐\n",
      "q_0: ┤ H ├\n",
      "     ├───┤\n",
      "q_1: ┤ H ├\n",
      "     ├───┤\n",
      "q_2: ┤ H ├\n",
      "     ├───┤\n",
      "q_3: ┤ H ├\n",
      "     └───┘\n",
      "c: 4/═════\n",
      "          \n",
      "Checking square 0...\n",
      "✅ Safe at square 0.\n",
      "Checking square 2...\n",
      "✅ Safe at square 2.\n",
      "Checking square 1...\n",
      "✅ Safe at square 1.\n"
     ]
    }
   ],
   "source": [
    "# --- Setup board ---\n",
    "num_squares = 4  # 2x2 board\n",
    "qc = QuantumCircuit(num_squares, num_squares)\n",
    "\n",
    "# Put each square in equal superposition of mine/safe\n",
    "for i in range(num_squares):\n",
    "    qc.h(i)  # Hadamard → (|0> + |1>)/sqrt(2)\n",
    "\n",
    "print(\"Initial quantum board: each square in |0> + |1> superposition\")\n",
    "print(qc)"
   ]
  },
  {
   "cell_type": "code",
   "execution_count": null,
   "metadata": {},
   "outputs": [],
   "source": [
    "# --- Game State ---\n",
    "measured_squares = set()\n",
    "simulator = Aer.get_backend('qasm_simulator')\n",
    "shots = 1  # One shot = one game\n",
    "\n",
    "def check_square(qc, square_idx):\n",
    "    \"\"\"Measure a square and collapse the wavefunction.\"\"\"\n",
    "    if square_idx in measured_squares:\n",
    "        print(f\"Square {square_idx} already revealed!\")\n",
    "        return qc\n",
    "\n",
    "    print(f\"Checking square {square_idx}...\")\n",
    "    qc.measure(square_idx, square_idx)  # Measure into matching classical bit\n",
    "\n",
    "    # Simulate this measurement\n",
    "    result = simulator.run(qc, shots=shots).result()\n",
    "    counts = result.get_counts()\n",
    "    outcome = list(counts.keys())[0]  # Single-shot outcome string\n",
    "\n",
    "    # Qiskit returns bitstrings in reverse order (qubit 0 = rightmost)\n",
    "    outcome_str = outcome[::-1]\n",
    "    state = outcome_str[square_idx]\n",
    "\n",
    "    if state == '1':\n",
    "        print(f\"💣 BOOM! Mine at square {square_idx}. Game over.\")\n",
    "    else:\n",
    "        print(f\"✅ Safe at square {square_idx}.\")\n",
    "\n",
    "    measured_squares.add(square_idx)\n",
    "    return qc"
   ]
  },
  {
   "cell_type": "code",
   "execution_count": null,
   "metadata": {},
   "outputs": [],
   "source": [
    "# --- Example Playthrough ---\n",
    "qc = check_square(qc, 0)  # First move\n",
    "qc = check_square(qc, 2)  # Second move\n",
    "qc = check_square(qc, 1)  # Third move"
   ]
  }
 ],
 "metadata": {
  "kernelspec": {
   "display_name": "QuantumAlgs",
   "language": "python",
   "name": "python3"
  },
  "language_info": {
   "codemirror_mode": {
    "name": "ipython",
    "version": 3
   },
   "file_extension": ".py",
   "mimetype": "text/x-python",
   "name": "python",
   "nbconvert_exporter": "python",
   "pygments_lexer": "ipython3",
   "version": "3.11.4"
  },
  "orig_nbformat": 4
 },
 "nbformat": 4,
 "nbformat_minor": 2
}
